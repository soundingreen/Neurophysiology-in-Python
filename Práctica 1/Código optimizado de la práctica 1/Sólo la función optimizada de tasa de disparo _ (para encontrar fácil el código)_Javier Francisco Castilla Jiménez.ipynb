{
 "cells": [
  {
   "cell_type": "markdown",
   "metadata": {},
   "source": [
    "# Código optimizado para Tasa de disparo (basado en la práctica 1)\n",
    "### Javier Francisco Castilla Jiménez"
   ]
  },
  {
   "cell_type": "code",
   "execution_count": 10,
   "metadata": {},
   "outputs": [],
   "source": [
    "import numpy as np"
   ]
  },
  {
   "cell_type": "code",
   "execution_count": 8,
   "metadata": {},
   "outputs": [],
   "source": [
    "def bordesup(start,stop,paso,ventana,nv=False): # función para obtener los bordes superiores de mi ventana dadas las especificaciones de cada caso\n",
    "    \"\"\"\n",
    "    Esta función cálcula los bordes superiores (para ventanas deterministicas) necesarios para calcular la tasa de disparo.\n",
    "    alternativamente devuelve también el número de ventanas determinadas por estos bordes.\n",
    "    La función recibe en donde empieza mi rango de tiempo y donde termina (en segundos), el tamaño del paso\n",
    "    tamaño de la ventana. y cálcula los bordes superiores.alternativamente también cálcula \n",
    "    el número de ventanas determinadas por los bordes\n",
    "    <parametros>\n",
    "    start  es en donde empieza mi rango # en segundos\n",
    "    stop es donde donde termina mi rango #segundos\n",
    "    paso es el tamaño del paso #en segundos\n",
    "    ventana es el tamaño de la ventana # en segundos\n",
    "    nv es un parametro opcional que indica si regresa también el número de ventanas para el valor default es false\n",
    "    <devuelve>\n",
    "    np.array que contiene los valores de los bordes superiores (para  ventanas deterministicas)\n",
    "    int que corresponde al número de ventanas determinadas por esos bordes\n",
    "    \"\"\"\n",
    "    ventana,paso,stop,start=ventana*1000,paso*1000,stop*1000,start*1000\n",
    "    sup=np.arange(start+ventana,stop+1,paso)/1000 #obtengamos los bordes superiores de mi ventana dadas las especificaciones\n",
    "    if nv==True:\n",
    "        nvent=(len(sup))\n",
    "        return sup,nvent\n",
    "    else:\n",
    "        return sup"
   ]
  },
  {
   "cell_type": "code",
   "execution_count": 9,
   "metadata": {},
   "outputs": [],
   "source": [
    "def tasa(ensayos,nventanas,paso,ventana):\n",
    "    \"\"\"\n",
    "    Esta función calcula la tasa de disparo con un algoritmo optimizado para reducir el uso de ciclos \n",
    "    for al mínimo.Para esto toma ventaja de la regularidad y el ordenamiento de los datos y hace uso de la \n",
    "    división entera y la vectorización.La función calcula la tasa de disparo dado un slice de una lista de\n",
    "    una lista de numpy arrays donde cada array es un ensayo.\n",
    "    <parámetros>\n",
    "    TODOS LOS PARÁMETROS SON OBLIGATORIOS\n",
    "    ensayos debe ser una lista de arrays o un slice de una lista de arrays donde cada array debe ser un ensayo.\n",
    "    nventanas es el número de ventanas para el que estamos calculando\n",
    "    paso es el tamaño de paso que vamos usar para calcular la tasa \n",
    "    ventana es el tamaño del la ventana que vamos a usar\n",
    "    <devuelve>\n",
    "    un numpy array donde cada elemento corresponde a la tasa de disparo para cada ventana determinística(a los pasos establecidos).\n",
    "    \"\"\"\n",
    "    frecuencia=np.zeros(nventanas)# array vacío con un cero por cada ventana \n",
    "    ultima=ventana/paso # este número me dice en cuantas ventanas cae una espiga\n",
    "    #############################\n",
    "    for ensayo in ensayos:#itero un array de ensayos a la vez \n",
    "        vent=(ensayo+2)//paso# en este caso hay que sumar un +2 porque empezamos el resgistro de datos en -2 no en cero #los elementos de la matriz ((ensayo+2)//paso) son la última ventana en que aparece un dato     \n",
    "        for nv in range(int(ultima)): # nv cuenta 0, 1,2,3,4 que es lo que necesito restar para ver si una espiga aparce en ventanas anteriores a la última en que aparece (((ensayo+2)//paso))\n",
    "            ven=vent-nv  #los elementos de ((ensayo+2)//paso)-nv en la primera iteración son la última ventana en la que aparece un dato y en las siguientes iteraciones son las ventanas anteriores en las que puede aparecer\n",
    "            ven=(ven[ven>=0])# la condicion [ven>=0] me evita que al restar nv aparezcan negativos cuando un valor no aparece en una ventana\n",
    "            ven=(ven[ven<nventanas]).astype(int) # esto evita que si por ejemplo al tomar una espiga que cayo en los últimos pasos al hacer la división entera me de indices superiores a mi número de ventanas\n",
    "            indices,cuentas=np.unique(ven,return_counts=True)#en este caso los valores unicos corresponden a los indices # y las cuentas a la cantidad de veces que aparece un índice\n",
    "            frecuencia[indices]+=cuentas # matriz con las frecuencias por ventana\n",
    "    tasa=(frecuencia/ventana)/len(ensayos) # calculamos la tasa de disparo\n",
    "    return tasa"
   ]
  }
 ],
 "metadata": {
  "kernelspec": {
   "display_name": "Python 3",
   "language": "python",
   "name": "python3"
  },
  "language_info": {
   "codemirror_mode": {
    "name": "ipython",
    "version": 3
   },
   "file_extension": ".py",
   "mimetype": "text/x-python",
   "name": "python",
   "nbconvert_exporter": "python",
   "pygments_lexer": "ipython3",
   "version": "3.8.3"
  }
 },
 "nbformat": 4,
 "nbformat_minor": 4
}
