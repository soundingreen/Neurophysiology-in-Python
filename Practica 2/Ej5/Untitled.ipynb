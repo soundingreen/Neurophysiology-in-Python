{
 "cells": [
  {
   "cell_type": "code",
   "execution_count": null,
   "metadata": {},
   "outputs": [],
   "source": [
    "def cb(n,k):\n",
    "    coeficientebin=math.factorial(n)/((math.factorial(n-k))*(math.factorial(k)))\n",
    "    return coeficientebin\n",
    "def pbin(p,n,k):\n",
    "    pbin=(cb(n,k))*((p)**k)*((1-p)**(n-k))\n",
    "    return pbin"
   ]
  },
  {
   "cell_type": "code",
   "execution_count": null,
   "metadata": {},
   "outputs": [],
   "source": [
    "R=R1+R2+R3\n",
    "todos=np.concatenate(R)\n",
    "mayorq05=np.sum([todos>0.5])/len(todos)\n",
    "print('la probablidad de tener un número mayor a 0.5 utilizando las 9 muestras es:',mayorq05)"
   ]
  },
  {
   "cell_type": "code",
   "execution_count": null,
   "metadata": {},
   "outputs": [],
   "source": [
    "### compararando\n",
    "v=[100,500,5000]\n",
    "for e in v:\n",
    "    comp01=pbin(mayorq05,e,1)\n",
    "    print('la probablidad de tener (solo) un número mayor a 0.5 utilizando las 9 muestras si se toman {} números aleatorios es:'.format(e),comp01)"
   ]
  },
  {
   "cell_type": "code",
   "execution_count": null,
   "metadata": {},
   "outputs": [],
   "source": [
    "r=R2+R3\n",
    "t2y3=np.concatenate(r)\n",
    "mayorq14=np.sum(t2y3>14)/len(t2y3)\n",
    "print('la probablidad de que utilizando las tres muestras generadas en el rango 0-20 y las 3 en el rango 0-300 un número sea mayor a 14 es es:',mayorq14)"
   ]
  },
  {
   "cell_type": "code",
   "execution_count": null,
   "metadata": {},
   "outputs": [],
   "source": [
    "# comparando\n",
    "v=[100,500,5000]\n",
    "for e in v:\n",
    "    comp02=pbin(mayorq14,e,1)\n",
    "    print('la probablidad de tener (solo) un número mayor a 14 utilizando las tres muestras generadas en el rango 0-20 y las 3 en el rango 0-300 si se toman {} números aleatorios es:'.format(e),comp02)"
   ]
  }
 ],
 "metadata": {
  "kernelspec": {
   "display_name": "Python 3",
   "language": "python",
   "name": "python3"
  },
  "language_info": {
   "codemirror_mode": {
    "name": "ipython",
    "version": 3
   },
   "file_extension": ".py",
   "mimetype": "text/x-python",
   "name": "python",
   "nbconvert_exporter": "python",
   "pygments_lexer": "ipython3",
   "version": "3.8.3"
  }
 },
 "nbformat": 4,
 "nbformat_minor": 4
}
