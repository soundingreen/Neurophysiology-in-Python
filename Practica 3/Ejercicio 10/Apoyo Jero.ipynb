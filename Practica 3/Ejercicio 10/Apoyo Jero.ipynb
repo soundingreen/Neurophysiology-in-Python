{
 "cells": [
  {
   "cell_type": "code",
   "execution_count": null,
   "metadata": {},
   "outputs": [],
   "source": [
    "def loadNeuronData(path):\n",
    "    f= open(path,\"r\")\n",
    "    lines=f.readlines()\n",
    "    f.close()\n",
    "    data=[[]]\n",
    "    for l in lines:\n",
    "        x =l.strip().split(\",\")\n",
    "        if x==['']:\n",
    "            data.append([])\n",
    "            continue\n",
    "        data[:-1].append(np.array(x,dtype=float))\n",
    "    return data\n",
    "def drawPatternRaster(spikes,figsize(11,7)):\n",
    "    c=[\"blue\",\"orange\",\"green\",\"red\"]\n",
    "    fig=plt.figure(figsize=figsize)\n",
    "    ax=fig.add_suplot(111)\n",
    "    for p in range(4):\n",
    "        for t in range(15):\n",
    "            x=spikes[p][t]\n",
    "            y[p*15+t]*len(spikes[p][t])\n",
    "            ax.scatter(x,y,c=c[p],s=10,marker='|')\n",
    "    return fig\n",
    "\n",
    "def firerate(spikes,wnd,stp,tmin,tmax):\n",
    "    \n",
    "        "
   ]
  }
 ],
 "metadata": {
  "kernelspec": {
   "display_name": "Python 3",
   "language": "python",
   "name": "python3"
  },
  "language_info": {
   "codemirror_mode": {
    "name": "ipython",
    "version": 3
   },
   "file_extension": ".py",
   "mimetype": "text/x-python",
   "name": "python",
   "nbconvert_exporter": "python",
   "pygments_lexer": "ipython3",
   "version": "3.8.5"
  }
 },
 "nbformat": 4,
 "nbformat_minor": 4
}
